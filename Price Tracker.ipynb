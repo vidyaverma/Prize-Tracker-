{
 "cells": [
  {
   "cell_type": "code",
   "execution_count": 86,
   "metadata": {},
   "outputs": [],
   "source": [
    "import requests\n",
    "URL='https://www.amazon.in/Apple-MacBook-16-inch-Storage-Intel-Core-i7/dp/B081JWZQJB/ref=sr_1_1_sspa?dchild=1&keywords=apple+macbook&qid=1598858499&sr=8-1-spons&psc=1&spLa=ZW5jcnlwdGVkUXVhbGlmaWVyPUEySTgyOFBDOVFORVBWJmVuY3J5cHRlZElkPUEwNTM1NzE5M0ExR1Q4UjhVQjhSUiZlbmNyeXB0ZWRBZElkPUEwNDgzOTc4M0FCOVEwUFhXNDJIMyZ3aWRnZXROYW1lPXNwX2F0ZiZhY3Rpb249Y2xpY2tSZWRpcmVjdCZkb05vdExvZ0NsaWNrPXRydWU='"
   ]
  },
  {
   "cell_type": "code",
   "execution_count": 87,
   "metadata": {},
   "outputs": [],
   "source": [
    "headers={\"User-Agent\":'Mozilla/5.0 (Windows NT 10.0; Win64; x64; rv:80.0) Gecko/20100101 Firefox/80.0'}\n",
    "page=requests.get(URL,headers=headers)"
   ]
  },
  {
   "cell_type": "code",
   "execution_count": 88,
   "metadata": {},
   "outputs": [],
   "source": [
    "from bs4 import BeautifulSoup\n",
    "import smtplib"
   ]
  },
  {
   "cell_type": "code",
   "execution_count": 89,
   "metadata": {},
   "outputs": [],
   "source": [
    "soup=BeautifulSoup(page.content,'html.parser')"
   ]
  },
  {
   "cell_type": "code",
   "execution_count": 90,
   "metadata": {},
   "outputs": [],
   "source": [
    "def checkprice():\n",
    "    title=soup.find(id=\"productTitle\").get_text()\n",
    "    print(title.strip())\n",
    "    price=soup.find(id=\"priceblock_ourprice\").get_text()\n",
    "    price=price[1:]\n",
    "    price=price.replace(',', '')\n",
    "    convertedprice=float(price)\n",
    "    if convertedprice<185000:\n",
    "        send_mail()\n",
    "    "
   ]
  },
  {
   "cell_type": "code",
   "execution_count": 91,
   "metadata": {},
   "outputs": [],
   "source": [
    "def send_mail():\n",
    "    server=smtplib.SMTP('smtp.gmail.com',587)\n",
    "    server.ehlo()\n",
    "    server.starttls()\n",
    "    server.ehlo()\n",
    "    server.login('vermavidya598@gmail.com','jzxczgdtxshxztze')\n",
    "    subject=\"Price Fell Down\"\n",
    "    body=\"Check the amazon link  https://www.amazon.in/Apple-MacBook-16-inch-Storage-Intel-Core-i7/dp/B081JWZQJB/ref=sr_1_1_sspa?dchild=1&keywords=apple+macbook&qid=1598858499&sr=8-1-spons&psc=1&spLa=ZW5jcnlwdGVkUXVhbGlmaWVyPUEySTgyOFBDOVFORVBWJmVuY3J5cHRlZElkPUEwNTM1NzE5M0ExR1Q4UjhVQjhSUiZlbmNyeXB0ZWRBZElkPUEwNDgzOTc4M0FCOVEwUFhXNDJIMyZ3aWRnZXROYW1lPXNwX2F0ZiZhY3Rpb249Y2xpY2tSZWRpcmVjdCZkb05vdExvZ0NsaWNrPXRydWU=\"\n",
    "    msg=f\"Subject:{subject}\\n\\n{body}\"\n",
    "    server.sendmail('vermavidya598@gmail.com','abhilashkumarmmt@gmail.com',msg)\n",
    "    print(\"HEY EMAIL HAS BEEN SENT\")\n",
    "    server.quit()"
   ]
  },
  {
   "cell_type": "code",
   "execution_count": 92,
   "metadata": {},
   "outputs": [
    {
     "name": "stdout",
     "output_type": "stream",
     "text": [
      "Apple MacBook Pro (16-inch, 16GB RAM, 512GB Storage, 2.6GHz 9th Gen Intel Core i7) - Silver\n"
     ]
    }
   ],
   "source": [
    "checkprice()"
   ]
  },
  {
   "cell_type": "code",
   "execution_count": null,
   "metadata": {},
   "outputs": [],
   "source": []
  },
  {
   "cell_type": "code",
   "execution_count": null,
   "metadata": {},
   "outputs": [],
   "source": []
  }
 ],
 "metadata": {
  "kernelspec": {
   "display_name": "Python 3",
   "language": "python",
   "name": "python3"
  },
  "language_info": {
   "codemirror_mode": {
    "name": "ipython",
    "version": 3
   },
   "file_extension": ".py",
   "mimetype": "text/x-python",
   "name": "python",
   "nbconvert_exporter": "python",
   "pygments_lexer": "ipython3",
   "version": "3.7.6"
  }
 },
 "nbformat": 4,
 "nbformat_minor": 4
}
